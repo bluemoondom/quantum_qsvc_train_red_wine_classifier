{
 "cells": [
  {
   "cell_type": "code",
   "execution_count": 1,
   "id": "954c63c4-ee31-452f-ada4-1506de567e99",
   "metadata": {},
   "outputs": [],
   "source": [
    "import numpy as np"
   ]
  },
  {
   "cell_type": "code",
   "execution_count": 2,
   "id": "9deb686d-4d11-4231-b5be-d01878746c45",
   "metadata": {},
   "outputs": [],
   "source": [
    "# %%\n",
    "class QSVCWineClassifier:\n",
    "    \"\"\"Quantum Support Vector Classifier for wine quality classification\"\"\"\n",
    "    \n",
    "    def __init__(self, num_features=4, feature_map='ZZ', reps=2):\n",
    "        self.num_features = num_features\n",
    "        self.reps = reps\n",
    "        self.feature_map_type = feature_map\n",
    "        self.model = None\n",
    "        self.quantum_kernel = None\n",
    "        self.scaler = StandardScaler()\n",
    "        self.label_encoder = LabelEncoder()\n",
    "        self.pca = PCA(n_components=num_features)\n",
    "        self.original_features = 11  # Number of original features\n",
    "        \n",
    "        # Quantum components\n",
    "        self.feature_map = None\n",
    "        self.sampler = Sampler()\n",
    "        \n",
    "        self._setup_quantum_components()\n",
    "        print(f\"QSVC classifier initialized with {num_features} features\")\n",
    "    \n",
    "    def predict(self, X):\n",
    "        \"\"\"Prediction using QSVC or VQC\"\"\"\n",
    "        if self.model is None:\n",
    "            raise ValueError(\"Model is not trained! Call fit() first.\")\n",
    "        \n",
    "        # If we have 11 features (original), transform them\n",
    "        if X.shape[1] == self.original_features:\n",
    "            X_scaled = self.scaler.transform(X)\n",
    "            X_reduced = self.pca.transform(X_scaled)\n",
    "        else:\n",
    "            X_reduced = X\n",
    "        \n",
    "        y_pred_encoded = self.model.predict(X_reduced)\n",
    "        \n",
    "        # Ensure correct format\n",
    "        y_pred_encoded = np.atleast_1d(y_pred_encoded)\n",
    "        \n",
    "        # Clip predictions to valid class range\n",
    "        y_pred_encoded = np.clip(y_pred_encoded, 0, len(self.label_encoder.classes_) - 1)\n",
    "        \n",
    "        try:\n",
    "            y_pred = self.label_encoder.inverse_transform(y_pred_encoded.astype(int))\n",
    "        except ValueError as e:\n",
    "            print(f\"Warning: Prediction issue - {e}\")\n",
    "            # Fallback - return most frequent class\n",
    "            y_pred = np.array([self.label_encoder.classes_[0]])\n",
    "        \n",
    "        return y_pred\n",
    "    \n",
    "    def score(self, X, y):\n",
    "        \"\"\"Calculate accuracy score\"\"\"\n",
    "        y_pred = self.predict(X)\n",
    "        return accuracy_score(y, y_pred)\n"
   ]
  },
  {
   "cell_type": "code",
   "execution_count": 3,
   "id": "20934a6c-0a7e-499b-825a-59f9d718c752",
   "metadata": {},
   "outputs": [
    {
     "name": "stdout",
     "output_type": "stream",
     "text": [
      "Loading model...\n",
      "Model successfully loaded!\n",
      "\n",
      "==================================================\n",
      "     WINE QUALITY CLASSIFIER\n",
      "==================================================\n",
      "\n",
      "Set parameters and click 'Evaluate Wine Quality':\n",
      "\n",
      "Acidity:\n"
     ]
    },
    {
     "data": {
      "application/vnd.jupyter.widget-view+json": {
       "model_id": "290458ff9668405dbb080c9d4703e851",
       "version_major": 2,
       "version_minor": 0
      },
      "text/plain": [
       "FloatSlider(value=7.4, description='Fixed Acidity (g/L):', max=15.0, min=4.6, style=SliderStyle(description_wi…"
      ]
     },
     "metadata": {},
     "output_type": "display_data"
    },
    {
     "data": {
      "application/vnd.jupyter.widget-view+json": {
       "model_id": "30e32a843a54412d880ea0a4dd789e3f",
       "version_major": 2,
       "version_minor": 0
      },
      "text/plain": [
       "FloatSlider(value=0.7, description='Volatile Acidity (g/L):', max=1.33, min=0.21, step=0.01, style=SliderStyle…"
      ]
     },
     "metadata": {},
     "output_type": "display_data"
    },
    {
     "data": {
      "application/vnd.jupyter.widget-view+json": {
       "model_id": "3d799ae3648f44eb8cb31753bc834363",
       "version_major": 2,
       "version_minor": 0
      },
      "text/plain": [
       "FloatSlider(value=0.0, description='Citric Acid (g/L):', max=1.0, step=0.01, style=SliderStyle(description_wid…"
      ]
     },
     "metadata": {},
     "output_type": "display_data"
    },
    {
     "data": {
      "application/vnd.jupyter.widget-view+json": {
       "model_id": "4baf081c7e94443ab4e1282b5e200548",
       "version_major": 2,
       "version_minor": 0
      },
      "text/plain": [
       "FloatSlider(value=3.51, description='pH (-):', max=3.9, min=2.74, step=0.01, style=SliderStyle(description_wid…"
      ]
     },
     "metadata": {},
     "output_type": "display_data"
    },
    {
     "name": "stdout",
     "output_type": "stream",
     "text": [
      "\n",
      "Sugar and Salts:\n"
     ]
    },
    {
     "data": {
      "application/vnd.jupyter.widget-view+json": {
       "model_id": "d2182ef01d5047c6a55e1056e421851f",
       "version_major": 2,
       "version_minor": 0
      },
      "text/plain": [
       "FloatSlider(value=1.9, description='Residual Sugar (g/L):', max=10.7, min=1.2, style=SliderStyle(description_w…"
      ]
     },
     "metadata": {},
     "output_type": "display_data"
    },
    {
     "data": {
      "application/vnd.jupyter.widget-view+json": {
       "model_id": "f1c49ae2f9d24354b5cd6a74b77e8def",
       "version_major": 2,
       "version_minor": 0
      },
      "text/plain": [
       "FloatSlider(value=0.076, description='Chlorides (g/L):', max=0.61, min=0.039, step=0.001, style=SliderStyle(de…"
      ]
     },
     "metadata": {},
     "output_type": "display_data"
    },
    {
     "data": {
      "application/vnd.jupyter.widget-view+json": {
       "model_id": "0f84945926094e1784f9c914a96558a1",
       "version_major": 2,
       "version_minor": 0
      },
      "text/plain": [
       "FloatSlider(value=0.56, description='Sulphates (g/L):', max=2.0, min=0.33, step=0.01, style=SliderStyle(descri…"
      ]
     },
     "metadata": {},
     "output_type": "display_data"
    },
    {
     "name": "stdout",
     "output_type": "stream",
     "text": [
      "\n",
      "Sulfur Dioxide:\n"
     ]
    },
    {
     "data": {
      "application/vnd.jupyter.widget-view+json": {
       "model_id": "8354f5d3e05f44e3855c76f97335470a",
       "version_major": 2,
       "version_minor": 0
      },
      "text/plain": [
       "FloatSlider(value=11.0, description='Free SO₂ (mg/L):', max=52.0, min=3.0, step=1.0, style=SliderStyle(descrip…"
      ]
     },
     "metadata": {},
     "output_type": "display_data"
    },
    {
     "data": {
      "application/vnd.jupyter.widget-view+json": {
       "model_id": "145e2f35508e48c0b7f37ef8955b5e69",
       "version_major": 2,
       "version_minor": 0
      },
      "text/plain": [
       "FloatSlider(value=34.0, description='Total SO₂ (mg/L):', max=153.0, min=8.0, step=1.0, style=SliderStyle(descr…"
      ]
     },
     "metadata": {},
     "output_type": "display_data"
    },
    {
     "name": "stdout",
     "output_type": "stream",
     "text": [
      "\n",
      "Physical Properties:\n"
     ]
    },
    {
     "data": {
      "application/vnd.jupyter.widget-view+json": {
       "model_id": "f914cc39a7fd45ff9bb454f0ef86298f",
       "version_major": 2,
       "version_minor": 0
      },
      "text/plain": [
       "FloatSlider(value=0.9978, description='Density (g/cm³):', max=1.0, min=0.992, step=0.0001, style=SliderStyle(d…"
      ]
     },
     "metadata": {},
     "output_type": "display_data"
    },
    {
     "data": {
      "application/vnd.jupyter.widget-view+json": {
       "model_id": "03b076f2857543c49f249652759d1566",
       "version_major": 2,
       "version_minor": 0
      },
      "text/plain": [
       "FloatSlider(value=12.0, description='Alcohol (% vol):', max=14.0, min=9.0, style=SliderStyle(description_width…"
      ]
     },
     "metadata": {},
     "output_type": "display_data"
    },
    {
     "name": "stdout",
     "output_type": "stream",
     "text": [
      "\n",
      "Controls:\n"
     ]
    },
    {
     "data": {
      "application/vnd.jupyter.widget-view+json": {
       "model_id": "41444d88fb9f44518f2ba9e9af2258ad",
       "version_major": 2,
       "version_minor": 0
      },
      "text/plain": [
       "HBox(children=(Button(button_style='danger', description='Evaluate Wine Quality', layout=Layout(height='40px',…"
      ]
     },
     "metadata": {},
     "output_type": "display_data"
    },
    {
     "name": "stdout",
     "output_type": "stream",
     "text": [
      "\n",
      "Results:\n"
     ]
    },
    {
     "data": {
      "application/vnd.jupyter.widget-view+json": {
       "model_id": "0a5ea94b3f924a17ba7c3ab44b174909",
       "version_major": 2,
       "version_minor": 0
      },
      "text/plain": [
       "Output()"
      ]
     },
     "metadata": {},
     "output_type": "display_data"
    },
    {
     "name": "stdout",
     "output_type": "stream",
     "text": [
      "\n",
      "Wine classifier is ready to use!\n"
     ]
    }
   ],
   "source": [
    "import pickle\n",
    "import ipywidgets as widgets\n",
    "from IPython.display import display, clear_output\n",
    "import warnings\n",
    "warnings.filterwarnings('ignore')\n",
    "\n",
    "print(\"Loading model...\")\n",
    "\n",
    "# Load model\n",
    "loaded_qwc = None\n",
    "try:\n",
    "    with open('qsvc_wine_model.pkl', 'rb') as f:\n",
    "        loaded_data = pickle.load(f)\n",
    "    loaded_qwc = loaded_data['quantum_classifier']\n",
    "    print(\"Model successfully loaded!\")\n",
    "except FileNotFoundError:\n",
    "    print(\"File 'qsvc_wine_model.pkl' not found!\")\n",
    "except Exception as e:\n",
    "    print(f\"Error loading model: {e}\")\n",
    "\n",
    "print()\n",
    "print(\"=\" * 50)\n",
    "print(\"     WINE QUALITY CLASSIFIER\")  \n",
    "print(\"=\" * 50)\n",
    "print()\n",
    "\n",
    "# Create sliders\n",
    "fixed_acidity_slider = widgets.FloatSlider(\n",
    "    value=7.4, min=4.6, max=15.0, step=0.1,\n",
    "    description='Fixed Acidity (g/L):',\n",
    "    style={'description_width': '170px'}\n",
    ")\n",
    "\n",
    "volatile_acidity_slider = widgets.FloatSlider(\n",
    "    value=0.7, min=0.21, max=1.33, step=0.01,\n",
    "    description='Volatile Acidity (g/L):',\n",
    "    style={'description_width': '170px'}\n",
    ")\n",
    "\n",
    "citric_acid_slider = widgets.FloatSlider(\n",
    "    value=0.0, min=0.0, max=1.0, step=0.01,\n",
    "    description='Citric Acid (g/L):',\n",
    "    style={'description_width': '170px'}\n",
    ")\n",
    "\n",
    "residual_sugar_slider = widgets.FloatSlider(\n",
    "    value=1.9, min=1.2, max=10.7, step=0.1,\n",
    "    description='Residual Sugar (g/L):',\n",
    "    style={'description_width': '170px'}\n",
    ")\n",
    "\n",
    "chlorides_slider = widgets.FloatSlider(\n",
    "    value=0.076, min=0.039, max=0.610, step=0.001,\n",
    "    description='Chlorides (g/L):',\n",
    "    style={'description_width': '170px'}\n",
    ")\n",
    "\n",
    "free_sulfur_dioxide_slider = widgets.FloatSlider(\n",
    "    value=11.0, min=3.0, max=52.0, step=1.0,\n",
    "    description='Free SO₂ (mg/L):',\n",
    "    style={'description_width': '170px'}\n",
    ")\n",
    "\n",
    "total_sulfur_dioxide_slider = widgets.FloatSlider(\n",
    "    value=34.0, min=8.0, max=153.0, step=1.0,\n",
    "    description='Total SO₂ (mg/L):',\n",
    "    style={'description_width': '170px'}\n",
    ")\n",
    "\n",
    "density_slider = widgets.FloatSlider(\n",
    "    value=0.9978, min=0.992, max=1.000, step=0.0001,\n",
    "    description='Density (g/cm³):',\n",
    "    style={'description_width': '170px'}\n",
    ")\n",
    "\n",
    "pH_slider = widgets.FloatSlider(\n",
    "    value=3.51, min=2.74, max=3.90, step=0.01,\n",
    "    description='pH (-):',\n",
    "    style={'description_width': '170px'}\n",
    ")\n",
    "\n",
    "sulphates_slider = widgets.FloatSlider(\n",
    "    value=0.56, min=0.33, max=2.0, step=0.01,\n",
    "    description='Sulphates (g/L):',\n",
    "    style={'description_width': '170px'}\n",
    ")\n",
    "\n",
    "alcohol_slider = widgets.FloatSlider(\n",
    "    value=12.0, min=9.0, max=14.0, step=0.1,\n",
    "    description='Alcohol (% vol):',\n",
    "    style={'description_width': '170px'}\n",
    ")\n",
    "\n",
    "# Buttons\n",
    "predict_button = widgets.Button(\n",
    "    description='Evaluate Wine Quality',\n",
    "    button_style='danger',\n",
    "    layout=widgets.Layout(width='200px', height='40px')\n",
    ")\n",
    "\n",
    "reset_button = widgets.Button(\n",
    "    description='Reset to Default',\n",
    "    button_style='info',\n",
    "    layout=widgets.Layout(width='150px', height='40px')\n",
    ")\n",
    "\n",
    "# Output for results\n",
    "output = widgets.Output()\n",
    "\n",
    "def predict_wine_quality(button):\n",
    "    \"\"\"Function for wine quality prediction\"\"\"\n",
    "    with output:\n",
    "        clear_output(wait=True)\n",
    "        \n",
    "        if loaded_qwc is None:\n",
    "            print(\"Model is not loaded!\")\n",
    "            return\n",
    "        \n",
    "        # Get values from all sliders\n",
    "        test_sample = [\n",
    "            fixed_acidity_slider.value,\n",
    "            volatile_acidity_slider.value,\n",
    "            citric_acid_slider.value,\n",
    "            residual_sugar_slider.value,\n",
    "            chlorides_slider.value,\n",
    "            free_sulfur_dioxide_slider.value,\n",
    "            total_sulfur_dioxide_slider.value,\n",
    "            density_slider.value,\n",
    "            pH_slider.value,\n",
    "            sulphates_slider.value,\n",
    "            alcohol_slider.value\n",
    "        ]\n",
    "        \n",
    "        try:\n",
    "            # Prediction\n",
    "            prediction = loaded_qwc.predict(np.array([test_sample]))\n",
    "            quality_score = prediction[0]\n",
    "            \n",
    "            print(\"=\" * 50)\n",
    "            print(f\"   WINE QUALITY: {quality_score} points\")\n",
    "            \n",
    "            # Interpretation\n",
    "            if quality_score >= 8:\n",
    "                print(\"   EXCELLENT QUALITY!\")\n",
    "                rating = \"★★★★★\"\n",
    "                desc = \"This wine is truly exceptional!\"\n",
    "            elif quality_score >= 7:\n",
    "                print(\"   VERY GOOD QUALITY!\")\n",
    "                rating = \"★★★★☆\"\n",
    "                desc = \"High-quality wine with excellent characteristics\"\n",
    "            elif quality_score >= 6:\n",
    "                print(\"   GOOD QUALITY\")\n",
    "                rating = \"★★★☆☆\"\n",
    "                desc = \"Solid wine with pleasant properties\"\n",
    "            elif quality_score >= 5:\n",
    "                print(\"   AVERAGE QUALITY\")\n",
    "                rating = \"★★☆☆☆\"\n",
    "                desc = \"Standard wine for everyday consumption\"\n",
    "            elif quality_score >= 4:\n",
    "                print(\"   BELOW AVERAGE QUALITY\")\n",
    "                rating = \"★☆☆☆☆\"\n",
    "                desc = \"Wine with some deficiencies\"\n",
    "            else:\n",
    "                print(\"   POOR QUALITY\")\n",
    "                rating = \"☆☆☆☆☆\"\n",
    "                desc = \"Wine with significant problems\"\n",
    "            \n",
    "            print(f\"   {rating}\")\n",
    "            print(f\"   {desc}\")\n",
    "            print(\"=\" * 50)\n",
    "            \n",
    "            print()\n",
    "            print(\"Input parameters:\")\n",
    "            print(f\"  Fixed Acidity: {test_sample[0]:.2f}\")\n",
    "            print(f\"  Volatile Acidity: {test_sample[1]:.3f}\")\n",
    "            print(f\"  Citric Acid: {test_sample[2]:.3f}\")\n",
    "            print(f\"  Residual Sugar: {test_sample[3]:.1f}\")\n",
    "            print(f\"  Chlorides: {test_sample[4]:.3f}\")\n",
    "            print(f\"  Free SO₂: {test_sample[5]:.0f}\")\n",
    "            print(f\"  Total SO₂: {test_sample[6]:.0f}\")\n",
    "            print(f\"  Density: {test_sample[7]:.4f}\")\n",
    "            print(f\"  pH: {test_sample[8]:.2f}\")\n",
    "            print(f\"  Sulphates: {test_sample[9]:.2f}\")\n",
    "            print(f\"  Alcohol: {test_sample[10]:.1f}%\")\n",
    "            \n",
    "        except Exception as e:\n",
    "            print(f\"ERROR: {e}\")\n",
    "\n",
    "def reset_values(button):\n",
    "    \"\"\"Reset to original values\"\"\"\n",
    "    with output:\n",
    "        clear_output(wait=True)\n",
    "        print(\"Resetting to default values...\")\n",
    "    \n",
    "    # Set original values from test_sample\n",
    "    fixed_acidity_slider.value = 7.4\n",
    "    volatile_acidity_slider.value = 0.7\n",
    "    citric_acid_slider.value = 0.0\n",
    "    residual_sugar_slider.value = 1.9\n",
    "    chlorides_slider.value = 0.076\n",
    "    free_sulfur_dioxide_slider.value = 11.0\n",
    "    total_sulfur_dioxide_slider.value = 34.0\n",
    "    density_slider.value = 0.9978\n",
    "    pH_slider.value = 3.51\n",
    "    sulphates_slider.value = 0.56\n",
    "    alcohol_slider.value = 12.0\n",
    "\n",
    "# Connect functions to buttons\n",
    "predict_button.on_click(predict_wine_quality)\n",
    "reset_button.on_click(reset_values)\n",
    "\n",
    "# Display interface\n",
    "print(\"Set parameters and click 'Evaluate Wine Quality':\")\n",
    "print()\n",
    "\n",
    "# Display sliders in groups\n",
    "print(\"Acidity:\")\n",
    "display(fixed_acidity_slider)\n",
    "display(volatile_acidity_slider)\n",
    "display(citric_acid_slider)\n",
    "display(pH_slider)\n",
    "\n",
    "print()\n",
    "print(\"Sugar and Salts:\")\n",
    "display(residual_sugar_slider)\n",
    "display(chlorides_slider)\n",
    "display(sulphates_slider)\n",
    "\n",
    "print()\n",
    "print(\"Sulfur Dioxide:\")\n",
    "display(free_sulfur_dioxide_slider)\n",
    "display(total_sulfur_dioxide_slider)\n",
    "\n",
    "print()\n",
    "print(\"Physical Properties:\")\n",
    "display(density_slider)\n",
    "display(alcohol_slider)\n",
    "\n",
    "print()\n",
    "print(\"Controls:\")\n",
    "display(widgets.HBox([predict_button, reset_button]))\n",
    "\n",
    "print()\n",
    "print(\"Results:\")\n",
    "display(output)\n",
    "\n",
    "# Initial message\n",
    "with output:\n",
    "    print(\"Wine classifier is ready!\")\n",
    "    print(\"Adjust slider values and click 'Evaluate Wine Quality'\")\n",
    "    if loaded_qwc is not None:\n",
    "        print(\"Model is loaded and functional\")\n",
    "    else:\n",
    "        print(\"WARNING: Model was not loaded!\")\n",
    "\n",
    "print()\n",
    "print(\"Wine classifier is ready to use!\")"
   ]
  },
  {
   "cell_type": "code",
   "execution_count": null,
   "id": "844bcebc-4ac6-45ae-b6b4-749882bb1e50",
   "metadata": {},
   "outputs": [],
   "source": []
  }
 ],
 "metadata": {
  "kernelspec": {
   "display_name": "Python 3 (ipykernel)",
   "language": "python",
   "name": "python3"
  },
  "language_info": {
   "codemirror_mode": {
    "name": "ipython",
    "version": 3
   },
   "file_extension": ".py",
   "mimetype": "text/x-python",
   "name": "python",
   "nbconvert_exporter": "python",
   "pygments_lexer": "ipython3",
   "version": "3.13.5"
  }
 },
 "nbformat": 4,
 "nbformat_minor": 5
}
